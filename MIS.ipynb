{
 "cells": [
  {
   "cell_type": "code",
   "execution_count": 2,
   "metadata": {},
   "outputs": [
    {
     "name": "stdout",
     "output_type": "stream",
     "text": [
      "f_0: 9.77 GHz\n",
      "e: 2.201\n",
      "l0_theor: 3.110 sm\n"
     ]
    }
   ],
   "source": [
    "f0_theor = 9.645\n",
    "f0 = 9.770\n",
    "l0 = 30 / f0\n",
    "lcr = 4.6\n",
    "e = (l0 / (2 * 2 * 6.2 / 10)) ** 2 + (l0 / lcr)\n",
    "print('f_0:', f0, 'GHz')\n",
    "print('e:', \"{0:.3f}\".format(e))\n",
    "e_theor = 2.03\n",
    "l0_theor = ((e_theor) / ((1 / (4 * 6.2 * 0.1) ** 2) + 1 / 4.6 ** 2)) ** .5\n",
    "print('l0_theor:', \"{0:.3f}\".format(l0_theor), 'sm')"
   ]
  },
  {
   "cell_type": "code",
   "execution_count": 3,
   "metadata": {},
   "outputs": [],
   "source": [
    "def r_mn(e_m, e_n):\n",
    "    return ((e_n) ** .5 - (e_m) ** .5) / ((e_n) ** .5 + (e_m) ** .5)\n",
    "\n",
    "def r(ksvn):\n",
    "    return ((ksvn - 1) / (ksvn + 1)) ** 2\n",
    "\n",
    "def Phi(l, L, ksi):\n",
    "    return 2 * 3.14 / l * (L * ksi) ** .5\n",
    "\n",
    "def a_min(N):\n",
    "    a = []\n",
    "    for ind in range(1, N):\n",
    "        a.append(math.cos(3.14 * ind / N))\n",
    "    return a"
   ]
  },
  {
   "cell_type": "code",
   "execution_count": 4,
   "metadata": {},
   "outputs": [],
   "source": [
    "# klin"
   ]
  },
  {
   "cell_type": "code",
   "execution_count": 5,
   "metadata": {},
   "outputs": [
    {
     "name": "stdout",
     "output_type": "stream",
     "text": [
      "f0: 7.95 GHz\n",
      "KSVN: 1.41\n",
      "R: 0.029\n",
      "~~~~~~~~~~~~\n",
      "f0: 9.12 GHz\n",
      "KSVN: 1.22\n",
      "R: 0.010\n",
      "~~~~~~~~~~~~\n",
      "f0: 10.35 GHz\n",
      "KSVN: 1.2\n",
      "R: 0.008\n",
      "~~~~~~~~~~~~\n",
      "f0: 7.31 GHz\n",
      "KSVN: 2.28\n",
      "R: 0.152\n",
      "~~~~~~~~~~~~\n",
      "f0: 8.5 GHz\n",
      "KSVN: 2.04\n",
      "R: 0.117\n",
      "~~~~~~~~~~~~\n",
      "f0: 9.68 GHz\n",
      "KSVN: 1.78\n",
      "R: 0.079\n",
      "~~~~~~~~~~~~\n",
      "f0: 11.09 GHz\n",
      "KSVN: 1.89\n",
      "R: 0.095\n",
      "~~~~~~~~~~~~\n"
     ]
    }
   ],
   "source": [
    "ksvn = [1.41, 1.22, 1.2, 2.28, 2.04, 1.78, 1.89]\n",
    "f0 = [7.95, 9.12, 10.35, 7.31, 8.5, 9.68, 11.09]\n",
    "R = []\n",
    "for elem in ksvn:\n",
    "    R.append(r(elem))\n",
    "\n",
    "for ind in range(len(ksvn)):\n",
    "    print(f'f0: {f0[ind]} GHz')\n",
    "    print(f'KSVN: {ksvn[ind]}')\n",
    "    print(f'R: {\"{0:.3f}\".format(R[ind])}')\n",
    "    print('~~~~~~~~~~~~')"
   ]
  },
  {
   "cell_type": "code",
   "execution_count": 24,
   "metadata": {},
   "outputs": [
    {
     "name": "stdout",
     "output_type": "stream",
     "text": [
      "e_klina: 1.16\n",
      "gamma: 0.00000014 1/c\n",
      "gamma: 0.00000015 1/c\n",
      "gamma: 0.00000016 1/c\n",
      "gamma: 0.00000016 1/c\n",
      "gamma: 0.00000016 1/c\n",
      "gamma: 0.00000017 1/c\n",
      "gamma: 0.00000018 1/c\n",
      "gamma: 0.00000018 1/c\n",
      "gamma: 0.00000019 1/c\n",
      "gamma: 0.00000020 1/c\n",
      "~~~~~\n",
      "r01: 0.175\n",
      "r12: -0.139\n",
      "~~~~~\n",
      "|R^2|: 0.002\n",
      "|R^2|: 0.019\n",
      "|R^2|: 0.041\n",
      "|R^2|: 0.056\n",
      "|R^2|: 0.085\n",
      "|R^2|: 0.092\n",
      "|R^2|: 0.062\n",
      "|R^2|: 0.041\n",
      "|R^2|: 0.006\n",
      "|R^2|: 0.010\n"
     ]
    }
   ],
   "source": [
    "import cmath\n",
    "# ksvn_klina = 1.35\n",
    "# print(ksvn_klina ** .5)\n",
    "# r_klina = ((r(ksvn_klina) - 1) / (r(ksvn_klina) + 1)) ** 2\n",
    "# print('r_otr_klina:', r(ksvn_klina))\n",
    "# print('r_klina:', r_klina)\n",
    "\n",
    "e_klina = 1.16\n",
    "print('e_klina:', e_klina)\n",
    "\n",
    "e_vozd = 1\n",
    "e_plast = 2.03\n",
    "gamma = []\n",
    "for elem in f0:\n",
    "    gamma.append(((2 * 3.14 * elem * 10 ** 9 / (3 * 10 ** 8)) ** 2 * e_vozd - e_klina * (3.14 / (2.3 * 10 ** (-2)))) ** .5)\n",
    "    \n",
    "for elem in gamma:\n",
    "    print(f'gamma: {\"{0:.8f}\".format(elem / 10 ** 9)} 1/c')\n",
    "\n",
    "r01 = r_mn(e_vozd, e_plast)\n",
    "r12 = r_mn(e_plast, e_klina)\n",
    "print('~~~~~')\n",
    "print('r01:', \"{0:.3f}\".format(r01))\n",
    "print('r12:', \"{0:.3f}\".format(r12))\n",
    "\n",
    "R_theory = []\n",
    "d1 = 6.5 * 10 ** (-2) # klin\n",
    "for g in gamma:\n",
    "    R_theory.append((r12 + r01 * cmath.exp(-2 * 1j * g * d1)) / (1 + r12 * r01 * cmath.exp(-2 * 1j * g * d1)))\n",
    "print('~~~~~')\n",
    "for elem in R_theory:\n",
    "    print(f'|R^2|: {\"{0:.3f}\".format(abs(elem ** 2))}')"
   ]
  },
  {
   "cell_type": "code",
   "execution_count": 7,
   "metadata": {},
   "outputs": [],
   "source": [
    "# section 4"
   ]
  },
  {
   "cell_type": "code",
   "execution_count": 8,
   "metadata": {},
   "outputs": [
    {
     "name": "stdout",
     "output_type": "stream",
     "text": [
      "~~~r_theory~~~\n",
      "[0.2043535372490148, 0.04652056901191851, 0.009029299154398965, 0.009820631442253064, 0.17664356227683262]\n",
      "\n",
      "\n",
      "r_exp_max: 0.204\n",
      "\n",
      "\n",
      "~~~r_exp~~~\n",
      "[0.9995710799316745, 0.9988305754331079, 0.9978609040921448, 0.9960587529060515, 0.9925260242706939, 0.986571161522235, 0.9837511491023503, 0.9787916337398656, 0.9759288135923064]\n",
      "\n",
      "\n",
      "r_theory_max: 1.000\n",
      "\n",
      "\n",
      "~~a_min~~~\n",
      "[0.7073882691671998, 0.0007963267107332633, -0.7062616448200052]\n",
      "~~theor~~\n",
      "0.961 0.952 0.941\n"
     ]
    }
   ],
   "source": [
    "import math\n",
    "f0 = [7.04, 7.245, 7.42, 7.66, 8.02, 8.52, 8.74, 9.12, 9.34]\n",
    "ksvn = [0, 2.65, 0, 1.55, 1.21, 1.22, 0, 2.45, 0]\n",
    "raw_ksvn = [2.65, 1.55, 1.21, 1.22, 2.45]\n",
    "R = []\n",
    "l0_list = []\n",
    "r_wtht_sq = []\n",
    "raw_R = []\n",
    "for elem in ksvn:\n",
    "    R.append(r(elem))\n",
    "    if (elem != 0):\n",
    "        raw_R.append(r(elem))\n",
    "        r_wtht_sq.append(r(elem) ** .5)\n",
    "\n",
    "for elem in f0:\n",
    "    l0_list.append(30 / elem)\n",
    "\n",
    "e1 = 2.03\n",
    "e2 = 1\n",
    "N = 4\n",
    "lcr = 4.6\n",
    "L1 = []\n",
    "L2 = []\n",
    "for elem in l0_list:\n",
    "    L1.append(e1 - (elem / lcr) ** 2)\n",
    "    L2.append(e2 - (elem / lcr) ** 2)\n",
    "\n",
    "R_theory = []\n",
    "for idx in range(len(L1)):\n",
    "    ksvn_theory = (L1[idx] / L2[idx]) ** N\n",
    "    R_theory.append((ksvn_theory - 1) / (ksvn_theory + 1))\n",
    "    \n",
    "print('~~~r_theory~~~')\n",
    "print(raw_R)\n",
    "print('\\n')\n",
    "print('r_exp_max:', \"{0:.3f}\".format(max(raw_R)))\n",
    "print('\\n')\n",
    "print('~~~r_exp~~~')\n",
    "print(R_theory)\n",
    "print('\\n')\n",
    "print('r_theory_max:', \"{0:.3f}\".format(max(R_theory)))\n",
    "\n",
    "a = a_min(N)\n",
    "phi1 = []\n",
    "phi2 = []\n",
    "Xf = 1 * 10 ** (-2)\n",
    "Xv = 2.95 * 10 ** (-2)\n",
    "for ind in range(len(L1)):\n",
    "    phi1.append(Phi(l0_list[ind], L2[ind], Xf + 1 * 10 ** (-2)))\n",
    "    phi2.append(Phi(l0_list[ind], L2[ind], Xv + 2.95 * 10 ** (-2)))\n",
    "    \n",
    "a_theor = []\n",
    "for ind in range(len(phi1)):\n",
    "    a_theor.append(math.cos(phi1[ind]) * math.cos(phi2[ind]) - .5 * ((L2[ind] / L1[ind]) ** .5 + (L1[ind] / L2[ind]) ** .5) * math.sin(phi1[ind]) * math.sin(phi2[ind]))\n",
    "\n",
    "print('\\n')\n",
    "print('~~a_min~~~') \n",
    "print(a)\n",
    "print('~~theor~~')\n",
    "print(\"{0:.3f}\".format(a_theor[1]), \"{0:.3f}\".format(a_theor[2]), \"{0:.3f}\".format(a_theor[3]))"
   ]
  },
  {
   "cell_type": "code",
   "execution_count": 9,
   "metadata": {},
   "outputs": [],
   "source": [
    "# section 5"
   ]
  },
  {
   "cell_type": "code",
   "execution_count": 10,
   "metadata": {},
   "outputs": [
    {
     "name": "stdout",
     "output_type": "stream",
     "text": [
      "~~~r_theory~~~\n",
      "[0.2043535372490148, 0.07582440663726107, 0.023269175524274637, 0.009029299154398965, 0.010637656096040539, 0.19753086419753088]\n",
      "\n",
      "\n",
      "r_exp_max: 0.204\n",
      "\n",
      "\n",
      "~~~r_exp~~~\n",
      "[0.9999870014298654, 0.9997944732681251, 0.999552008021017, 0.9993377495686185, 0.9986502232589276, 0.9974113624114292, 0.9958532275612966, 0.9950344325349815, 0.9932331158656215, 0.9912247546935443]\n",
      "\n",
      "\n",
      "r_theory_max: 1.000\n",
      "\n",
      "\n",
      "~~a_min~~~\n",
      "[0.8092041809880323, 0.3096228130570242, -0.30810803127799236, -0.80826742726931]\n",
      "~~theor~~\n",
      "0.945 0.930 0.912 0.892\n"
     ]
    }
   ],
   "source": [
    "f0 = [6.89, 7.27, 7.46, 7.58, 7.86, 8.22, 8.58, 8.75, 9.1, 9.47]\n",
    "ksvn = [0, 2.65, 0, 1.76, 1.36, 1.21, 1.23, 0, 2.6, 0]\n",
    "R = []\n",
    "l0_list = []\n",
    "r_wtht_sq = []\n",
    "raw_R = []\n",
    "for elem in ksvn:\n",
    "    R.append(r(elem))\n",
    "    if (elem != 0):\n",
    "        raw_R.append(r(elem))\n",
    "        r_wtht_sq.append(r(elem) ** .5)\n",
    "\n",
    "for elem in f0:\n",
    "    l0_list.append(30 / elem)\n",
    "\n",
    "e1 = 2.03\n",
    "e2 = 1\n",
    "N = 5\n",
    "lcr = 4.6\n",
    "L1 = []\n",
    "L2 = []\n",
    "for elem in l0_list:\n",
    "    L1.append(e1 - (elem / lcr) ** 2)\n",
    "    L2.append(e2 - (elem / lcr) ** 2)\n",
    "\n",
    "R_theory = []\n",
    "for idx in range(len(L1)):\n",
    "    ksvn_theory = (L1[idx] / L2[idx]) ** N\n",
    "    R_theory.append((ksvn_theory - 1) / (ksvn_theory + 1))\n",
    "    \n",
    "print('~~~r_theory~~~')\n",
    "print(raw_R)\n",
    "print('\\n')\n",
    "print('r_exp_max:', \"{0:.3f}\".format(max(raw_R)))\n",
    "print('\\n')\n",
    "print('~~~r_exp~~~')\n",
    "print(R_theory)\n",
    "print('\\n')\n",
    "print('r_theory_max:', \"{0:.3f}\".format(max(R_theory)))\n",
    "\n",
    "a = a_min(N)\n",
    "phi1 = []\n",
    "phi2 = []\n",
    "Xf = 1 * 10 ** (-2)\n",
    "Xv = 2.95 * 10 ** (-2)\n",
    "for ind in range(len(L1)):\n",
    "    phi1.append(Phi(l0_list[ind], L2[ind], Xf + 1 * 10 ** (-2)))\n",
    "    phi2.append(Phi(l0_list[ind], L2[ind], Xv + 2.95 * 10 ** (-2)))\n",
    "    \n",
    "a_theor = []\n",
    "for ind in range(len(phi1)):\n",
    "    a_theor.append(math.cos(phi1[ind]) * math.cos(phi2[ind]) - .5 * ((L2[ind] / L1[ind]) ** .5 + (L1[ind] / L2[ind]) ** .5) * math.sin(phi1[ind]) * math.sin(phi2[ind]))\n",
    "\n",
    "print('\\n')\n",
    "print('~~a_min~~~') \n",
    "print(a)\n",
    "print('~~theor~~')\n",
    "print(\"{0:.3f}\".format(a_theor[3]), \"{0:.3f}\".format(a_theor[4]), \"{0:.3f}\".format(a_theor[5]), \"{0:.3f}\".format(a_theor[6]))"
   ]
  },
  {
   "cell_type": "code",
   "execution_count": 11,
   "metadata": {},
   "outputs": [],
   "source": [
    "def Q(w0, w_right, w_left):\n",
    "    return w0 / (w_left - w_right)"
   ]
  },
  {
   "cell_type": "code",
   "execution_count": 12,
   "metadata": {},
   "outputs": [
    {
     "name": "stdout",
     "output_type": "stream",
     "text": [
      "5.906\n"
     ]
    }
   ],
   "source": [
    "# 3^4\n",
    "q = Q(8.8, 8.13, 9.62)\n",
    "print(\"{0:.3f}\".format(q))"
   ]
  },
  {
   "cell_type": "code",
   "execution_count": 13,
   "metadata": {},
   "outputs": [
    {
     "name": "stdout",
     "output_type": "stream",
     "text": [
      "13.750\n"
     ]
    }
   ],
   "source": [
    "# 3^5\n",
    "q = Q(7.7, 7.37, 7.93)\n",
    "print(\"{0:.3f}\".format(q))"
   ]
  }
 ],
 "metadata": {
  "kernelspec": {
   "display_name": "Python 3",
   "language": "python",
   "name": "python3"
  },
  "language_info": {
   "codemirror_mode": {
    "name": "ipython",
    "version": 3
   },
   "file_extension": ".py",
   "mimetype": "text/x-python",
   "name": "python",
   "nbconvert_exporter": "python",
   "pygments_lexer": "ipython3",
   "version": "3.8.3"
  }
 },
 "nbformat": 4,
 "nbformat_minor": 4
}
