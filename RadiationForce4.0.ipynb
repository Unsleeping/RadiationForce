{
 "cells": [
  {
   "cell_type": "markdown",
   "metadata": {},
   "source": [
    "<h1>Отчет о проделанной работе</h1>"
   ]
  },
  {
   "cell_type": "markdown",
   "metadata": {},
   "source": [
    "<p>В прошлой версии, реализованной в среде MatLab, не удалось корректно реализовать расчет сферических функций Бесселя, поэтому я принял решение переписать весь код.</p>\n",
    "<p>Данная программа реализована на языке программирования python.</p>"
   ]
  },
  {
   "cell_type": "markdown",
   "metadata": {},
   "source": [
    "<p>Подключим необходимые библиотеки.</p>"
   ]
  },
  {
   "cell_type": "code",
   "execution_count": 722,
   "metadata": {},
   "outputs": [],
   "source": [
    "from math import *\n",
    "from scipy import special\n",
    "import numpy as np\n",
    "import cmath\n",
    "import time\n",
    "import pandas as pd\n",
    "import plotly.graph_objects as go\n",
    "from IPython.display import display, Image, SVG, Math, YouTubeVideo"
   ]
  },
  {
   "cell_type": "markdown",
   "metadata": {},
   "source": [
    "<p>Определим функцию $sinc(x)$.</p>"
   ]
  },
  {
   "cell_type": "code",
   "execution_count": 640,
   "metadata": {},
   "outputs": [],
   "source": [
    "def sinc(x):\n",
    "    '''\n",
    "    Compute the sinc-function: sin(x) / x\n",
    "    '''\n",
    "    try:  \n",
    "        return sin(x) / x\n",
    "    except ZeroDivisionError:\n",
    "        return 1."
   ]
  },
  {
   "cell_type": "markdown",
   "metadata": {},
   "source": [
    "<h2>Поставим теперь задачу:</h2>\n",
    "<p>Требуется написать такую функцию, результатом работы которой был бы кортеж из двух одномерных массивов, один из которых представлял бы из себя массив сферических функции Бесселя всех порядков от нуля до передаваемого в эту функцию параметра - последнего порядка, назовем его $N_{max}$, а другой, соответственно, массив сферических функций Неймана порядков от нуля до $N_{max}$.</p>\n",
    "<p>Сферические функции Бесселя и Неймана и их производные могут быть рассчитаны по известным рекуррентным соотношениям:\n",
    "</p>\n",
    "\n",
    "$$s_n(\\zeta) = \\frac{2n - 1}{\\zeta}s_{n-1}(\\zeta)-s_{n-2}(\\zeta) \\tag{A1}$$\n",
    "\n",
    "$$s_n^{'}(\\zeta) = s_{n-1}(\\zeta)-\\frac{n + 1}{\\zeta}s_{n}(\\zeta) \\tag{A2}$$\n",
    "\n",
    "<p>где $s_n(\\zeta)$ - условное обозначение одного из видов сферических функций, $\\zeta$ - аргумент соответствующей функции.</p>\n",
    "<p>Рекуррентная процедура $(А1)$ использует известные выражения для функций 0-го и 1-го порядков:</p>\n",
    "$$j_0(\\zeta)=\\frac{sin\\zeta}{\\zeta},$$\n",
    "\n",
    "$$j_1(\\zeta)=-j_0^{'}(\\zeta)=-\\frac{cos\\zeta}{\\zeta}+\\frac{sin\\zeta}{\\zeta^2},$$\n",
    "\n",
    "$$y_0(\\zeta)=-\\frac{cos\\zeta}{\\zeta},$$\n",
    "\n",
    "$$y_1(\\zeta)=-y_0^{'}(\\zeta)=-\\frac{sin\\zeta}{\\zeta}-\\frac{cos\\zeta}{\\zeta^2}.$$\n",
    "\n",
    "<p>Но есть маленький нюанс. Процедура $(А1)$ является устойчивой для функции Неймана любого порядка и функций Бесселя порядка $n \\leq \\zeta$. Функции Бесселя порядков $n \\geq \\zeta$ находятся с помощью обратных рекуррентных соотношений:</p>\n",
    "\n",
    "$$j_n(\\zeta) = \\frac{2n+3}{\\zeta}j_{n+1}(\\zeta)-j_{n+2}(\\zeta) \\tag{A3}$$\n",
    "\n",
    "<p>Для запуска процедуры $(А3)$ с некоторого номера $N$ необходимо иметь значения функций $j_{N+2}(\\zeta)$ и $j_{N+1}(\\zeta)$, которые заранее неизвестны.  Однако рекуррентный алгоритм $(А3)$ довольно быстро выходит на ветвь, соответствующую функциям Бесселя, т.е. конкретные значения стартовых функций  и  не важны. Например, их можно выбрать равными 0 и 1 соответственно, а сам номер $N$ выбрать существенно, на несколько сотен, превышающим наибольшее из требуемых значений номера $n$. Рекуррентная процедура $(А3)$ при этом определяет функции Бесселя с точностью до некоторого неизвестного множителя: $\\tilde{j_n}(\\zeta) = \\chi j_n(\\zeta)$.</p>\n",
    "<p>С уменьшением номера $n$ значения функций  чрезвычайно быстро нарастают и, вообще говоря, могут приблизиться к величине компьютерной бесконечности.  Поэтому целесообразно при некоторых значениях номера проводить их перенормировку.</p>"
   ]
  },
  {
   "cell_type": "markdown",
   "metadata": {},
   "source": [
    "<h3>Реализация функции $\\textit{upperRecurency}$</h3>\n",
    "<p>Как было отмечено выше, на вход в эту функцию передается целочисленное число $N_{max}$ - тот порядок, до которого будем рассчитывать сферические функции, и значение аргумента всех рассчитываемых функций - $\\text{value}$.</p>\n",
    "<p>Учтем, что порядки функций лежат в диапазоне от нуля до $N_{max}$, поэтому общее количество расчитываемых функций будет равно $N_{max} + 1$</p>\n",
    "<p>Создадим три нулевых одномерных массива размерностью $N_{max} + 1$. Массив сферических функций Бесселя: $sphj$(spherical j), сферических функций Неймана: $sphy$(spherical y). В силу неустойчивости алгоритма $(А1)$, будем использовать массив $\\textit{new_sphj}$ для новых сферических функций Бесселя, получаемых путем использования алгоритма $(А3)$.</p>\n",
    "<p>Проверим на ненулевое значение аргумента, для избежания ошибки деления на ноль, при заполнении нулевых и первых порядков, которые известны нам точно. Если же, пользователь хочет получить все сферические функции с аргументом равным нулю, то для инициализации первых и нулевых порядков обратимся к встроенным функциям, в которых это предусмотрено.</p>\n",
    "<p>Используем процедуру $(А1)$ для всех сферических функций Неймана требуемых порядков, и для той части сферических функций Бесселя, чей порядок меньше либо равен значению аргумента. Результатом получаем полностью готовый массив для сферических функций Неймана, и, в общем случае, неполностью заполненный массив сферических функций Бесселя.</p>\n",
    "<p>Для следующей части сферических функций Бесселя, используем процедуру $(А3)$, для этого, согласно теории, описанной выше, уходим на сто порядков выше, заполняем $N_{max}+101$ и $N_{max}+100$ порядки функций нулем и единицей соотвественно.</p>\n",
    "<p>В процессе расчета, следим за численными значениями функций. В тот момент, когда модуль значения расчитанной функции превысил значение $100$, проверяем порядок этой функции. Пусть порядок функции, значение модуля которой превысило значение $100$, равен $n$. Возможны два случая.</p>\n",
    "<p>Если $n$ находится в диапазоне от $N_{max}$ до $N_{max} + 101$, то для оптимизации нам достаточно нормировать только $n$ и $n+1$ порядки функций делением на $100$, чтобы спускаться по индексам к требуемым порядкам, не теряя линейной связи с реальными сферическими функциями Бесселя.</p>\n",
    "<p>Если же $n$ находится в диапазоне требуемых порядков, тогда требуется нормировать уже от $n$ до $N_{max}$, поэтому обратно направленным циклом переприсваиваем значения массива теми же значениями, деленными на $100$.</p>\n",
    "<p>Уточним здесь то, что в процессе расчета этих функций, мы можем множество раз заходить в алгоритм перенормировки, таким образом, число обратных рекуррентных ходов может быть большим.</p>\n",
    "<p>Результатом имеем полный набор новых сферических функций Бесселя требуемых порядков с точностью до неизвестного множителя.</p>"
   ]
  },
  {
   "cell_type": "markdown",
   "metadata": {},
   "source": [
    "<p>Отметим одну особенность сферических функций Бесселя. В окрестности точки $z = n$ все три функции $j_{n-1}$, $j_n$, $j_{n+1}$ растущие, причем примерно равные своему максимальному значению (см. рис. ниже), поэтому при сравнении функции $j_{Nz}(z)$, где $Nz = [z]$ ([$\\cdot$] - целая часть), найденной из прямой(растущей) рекуррентной последовательности, с функцией $\\text{new_j}_{Nz}=C\\cdot j_{Nz}(z)$, найденной из обратной рекуррентной последовательности ($C$ - искомый неизвестный коэффициент), не будет проблем с малостью функций. Более того, эти сравниваемые функции будут по величине всего примерно в 2 раза меньше своих самых больших значений.</p>"
   ]
  },
  {
   "cell_type": "markdown",
   "metadata": {},
   "source": [
    "<img src='https://bit.ly/35N2byp'>"
   ]
  },
  {
   "cell_type": "markdown",
   "metadata": {},
   "source": [
    "$$\\textbf{рис. 1.0}~\\text{Графики сферических функций Бесселя порядков $9-10-11,~99-100-101,~199-200-201$}$$"
   ]
  },
  {
   "cell_type": "code",
   "execution_count": 693,
   "metadata": {},
   "outputs": [],
   "source": [
    "def upperRecurency(value, Nmax):\n",
    "    \n",
    "    # Nmax is the larger index of requirement functions but quantity \n",
    "    # of required functions is (Nmax + 1) cause 0-index is included\n",
    "    \n",
    "    # Initialization the zero-arrays for calculating the functions\n",
    "    sphj, sphy, new_sphj = np.zeros(Nmax + 1), np.zeros(Nmax + 1), np.zeros(Nmax + 101)\n",
    "    \n",
    "    # Check for non-zero value\n",
    "    if value:\n",
    "        \n",
    "        # Compute the spherical Bessels functions of the first kind of zero \n",
    "        # and first-indexes in the current value\n",
    "        sphj[0] = sinc(value)                                           # n = 0\n",
    "        sphj[1] = (-1) * cos(value) / value + sin(value) / (value ** 2) # n = 1\n",
    "        \n",
    "        # Compute the spherical Bessels functions of the second kind of zero\n",
    "        # and first-indexes in the current value\n",
    "        sphy[0] = (-1) * cos(value) / value                             # n = 0\n",
    "        sphy[1] = (-1) * sin(value) / value - cos(value) / (value ** 2) # n = 1  \n",
    "        \n",
    "    \n",
    "    else:\n",
    "        # \"value == 0\" clause\n",
    "        sphj[0] = special.spherical_jn(0, value)\n",
    "        sphj[1] = special.spherical_jn(1, value)\n",
    "        \n",
    "        sphy[0] = special.spherical_yn(0, value)\n",
    "        sphy[1] = special.spherical_yn(1, value)\n",
    "        \n",
    "    # Compute the spherical Bessels functions of the second kind another indexes\n",
    "    # with bottom-to-top recurrency relation\n",
    "    for ind in range(2, Nmax + 1):\n",
    "        sphy[ind] = (2 * ind - 1) / value * sphy[ind - 1] - sphy[ind - 2]\n",
    "\n",
    "    Nz = trunc(value)\n",
    "    if (Nz >= Nmax):\n",
    "        for ind in range(2, Nmax + 1):\n",
    "            sphj[ind] = (2 * ind - 1) / value * sphj[ind - 1] - sphj[ind - 2]\n",
    "        return (sphj, sphy)\n",
    "    \n",
    "    if (Nz < Nmax):\n",
    "        if Nz <= 1:\n",
    "            Nz = 1\n",
    "            \n",
    "        # For another kind of spherical Bessels functions the previous algorithm isn't stable\n",
    "        # and we calculate only the part of necessary functions\n",
    "        for ind in range(2, Nz + 1):\n",
    "            sphj[ind] = (2 * ind - 1) / value * sphj[ind - 1] - sphj[ind - 2]\n",
    "\n",
    "\n",
    "        # For another part we should use the top-to-bottom recurrency relation\n",
    "\n",
    "        # Initialization {Nmax + 101} and {Nmax + 100}-indexes for this relation.\n",
    "        # We should extend our quantity of calculating functions by 100\n",
    "        # After that our 'new' spherical Bessels functions of the first kind will be known,\n",
    "        # but it will be the real functions multiplied by the some const.\n",
    "        new_sphj[Nmax + 100] = 0 # n = Nmax + 101\n",
    "        new_sphj[Nmax + 99] = 1 # n = Nmax + 100\n",
    "\n",
    "        # Calculate the 'new' spherical Bessels functions of the first kind of {98 + Nmax} down to {0} - indexes\n",
    "        for ind in range(98 + Nmax, Nz - 1, -1):\n",
    "            new_sphj[ind] = (2 * ind + 3) / value * new_sphj[ind + 1] - new_sphj[ind + 2]\n",
    "\n",
    "            # We shouldn't forget about the fact that our 'new' functions dramatically increases step-by-step.\n",
    "            # To avoid overflowing, we reduce all of the previous calculating functions by division on 100\n",
    "            if abs(new_sphj[ind]) > 100:\n",
    "\n",
    "                # We don't care about indexes which we don't want to compute\n",
    "                if ind <= Nmax:\n",
    "                    for index in range(ind, Nmax + 1):\n",
    "                        new_sphj[index] /= 100\n",
    "\n",
    "                # For this case we should reduce only the {current index + 1} and {current index} functions\n",
    "                # to continue our calculation\n",
    "                else:\n",
    "                    new_sphj[ind + 1] /= 100\n",
    "                    new_sphj[ind] /= 100\n",
    "                    \n",
    "        # After all calculations we want to know the const of relation between the 'new'\n",
    "        # and known Bessels functions of the first kind\n",
    "        k = new_sphj[Nz] / sphj[Nz]\n",
    "\n",
    "        # Initialize the new array for recalculation our 'new' Bessels functions with known constant\n",
    "        bessels = []\n",
    "        \n",
    "        for elem in sphj:\n",
    "            if elem != 0:\n",
    "                bessels.append(elem)\n",
    "\n",
    "        # Division all the 'new' functions by known constant\n",
    "        for ind in range(Nz + 1, len(new_sphj[:Nmax + 1])):\n",
    "#             if new_sphj[ind] != 0:\n",
    "            bessels.append(new_sphj[ind] / k)\n",
    "\n",
    "        # After all kinds of calculations, we return the 1st and 2nd kind of functions as 2 arrays in the current value\n",
    "        return bessels, sphy"
   ]
  },
  {
   "cell_type": "markdown",
   "metadata": {},
   "source": [
    "<p>Рассмотрим подробнее результат функции $\\textit{upperRecurency}$.</p> \n",
    "<p>Для этого вызовем эту функцию для аргументов $N_{max} = 10$, $\\text{value} = 20$ и сохраним кортеж массивов на выходе в одноименные с названием сферических функций переменные.</p>"
   ]
  },
  {
   "cell_type": "code",
   "execution_count": 681,
   "metadata": {},
   "outputs": [],
   "source": [
    "value = 5\n",
    "n_max = 10\n",
    "bessels, neymans = upperRecurency(value, n_max)"
   ]
  },
  {
   "cell_type": "markdown",
   "metadata": {},
   "source": [
    "<p>Подготовим данные для таблиц.</p>"
   ]
  },
  {
   "cell_type": "code",
   "execution_count": 764,
   "metadata": {},
   "outputs": [],
   "source": [
    "j_known = []\n",
    "y_known = []\n",
    "delta_j = []\n",
    "delta_y = []\n",
    "for ind in range(n_max + 1):\n",
    "    j_known.append(special.spherical_jn(ind, value))\n",
    "    delta_j.append(upperRecurency(value, n_max)[0][ind] - special.spherical_jn(ind, value))\n",
    "    y_known.append(special.spherical_yn(ind, value))\n",
    "    delta_y.append(upperRecurency(value, n_max)[1][ind] - special.spherical_yn(ind, value))"
   ]
  },
  {
   "cell_type": "code",
   "execution_count": 762,
   "metadata": {},
   "outputs": [],
   "source": [
    "frame_j = pd.DataFrame({'j_n_compute':upperRecurency(value, n_max)[0], 'j_n_known':j_known, 'delta_j':delta_j})\n",
    "frame_y = pd.DataFrame({'y_n_compute':upperRecurency(value, n_max)[1], 'y_n_known':j_known, 'delta_y':delta_y})"
   ]
  },
  {
   "cell_type": "markdown",
   "metadata": {},
   "source": [
    "<p>Сферические функции Бесселя:</p>"
   ]
  },
  {
   "cell_type": "code",
   "execution_count": 759,
   "metadata": {},
   "outputs": [
    {
     "data": {
      "text/html": [
       "<div>\n",
       "<style scoped>\n",
       "    .dataframe tbody tr th:only-of-type {\n",
       "        vertical-align: middle;\n",
       "    }\n",
       "\n",
       "    .dataframe tbody tr th {\n",
       "        vertical-align: top;\n",
       "    }\n",
       "\n",
       "    .dataframe thead th {\n",
       "        text-align: right;\n",
       "    }\n",
       "</style>\n",
       "<table border=\"1\" class=\"dataframe\">\n",
       "  <thead>\n",
       "    <tr style=\"text-align: right;\">\n",
       "      <th></th>\n",
       "      <th>j_n_compute</th>\n",
       "      <th>j_n_known</th>\n",
       "      <th>delta_j</th>\n",
       "    </tr>\n",
       "  </thead>\n",
       "  <tbody>\n",
       "    <tr>\n",
       "      <th>0</th>\n",
       "      <td>-0.191785</td>\n",
       "      <td>-0.191785</td>\n",
       "      <td>0.000000e+00</td>\n",
       "    </tr>\n",
       "    <tr>\n",
       "      <th>1</th>\n",
       "      <td>-0.095089</td>\n",
       "      <td>-0.095089</td>\n",
       "      <td>0.000000e+00</td>\n",
       "    </tr>\n",
       "    <tr>\n",
       "      <th>2</th>\n",
       "      <td>0.134731</td>\n",
       "      <td>0.134731</td>\n",
       "      <td>0.000000e+00</td>\n",
       "    </tr>\n",
       "    <tr>\n",
       "      <th>3</th>\n",
       "      <td>0.229821</td>\n",
       "      <td>0.229821</td>\n",
       "      <td>0.000000e+00</td>\n",
       "    </tr>\n",
       "    <tr>\n",
       "      <th>4</th>\n",
       "      <td>0.187018</td>\n",
       "      <td>0.187018</td>\n",
       "      <td>0.000000e+00</td>\n",
       "    </tr>\n",
       "    <tr>\n",
       "      <th>5</th>\n",
       "      <td>0.106811</td>\n",
       "      <td>0.106811</td>\n",
       "      <td>-8.326673e-17</td>\n",
       "    </tr>\n",
       "    <tr>\n",
       "      <th>6</th>\n",
       "      <td>0.047960</td>\n",
       "      <td>0.047967</td>\n",
       "      <td>-6.841159e-06</td>\n",
       "    </tr>\n",
       "    <tr>\n",
       "      <th>7</th>\n",
       "      <td>0.017885</td>\n",
       "      <td>0.017903</td>\n",
       "      <td>-1.778701e-05</td>\n",
       "    </tr>\n",
       "    <tr>\n",
       "      <th>8</th>\n",
       "      <td>0.005695</td>\n",
       "      <td>0.005741</td>\n",
       "      <td>-4.651988e-05</td>\n",
       "    </tr>\n",
       "    <tr>\n",
       "      <th>9</th>\n",
       "      <td>0.001478</td>\n",
       "      <td>0.001618</td>\n",
       "      <td>-1.403806e-04</td>\n",
       "    </tr>\n",
       "    <tr>\n",
       "      <th>10</th>\n",
       "      <td>-0.000080</td>\n",
       "      <td>0.000407</td>\n",
       "      <td>-4.869264e-04</td>\n",
       "    </tr>\n",
       "  </tbody>\n",
       "</table>\n",
       "</div>"
      ],
      "text/plain": [
       "    j_n_compute  j_n_known       delta_j\n",
       "0     -0.191785  -0.191785  0.000000e+00\n",
       "1     -0.095089  -0.095089  0.000000e+00\n",
       "2      0.134731   0.134731  0.000000e+00\n",
       "3      0.229821   0.229821  0.000000e+00\n",
       "4      0.187018   0.187018  0.000000e+00\n",
       "5      0.106811   0.106811 -8.326673e-17\n",
       "6      0.047960   0.047967 -6.841159e-06\n",
       "7      0.017885   0.017903 -1.778701e-05\n",
       "8      0.005695   0.005741 -4.651988e-05\n",
       "9      0.001478   0.001618 -1.403806e-04\n",
       "10    -0.000080   0.000407 -4.869264e-04"
      ]
     },
     "execution_count": 759,
     "metadata": {},
     "output_type": "execute_result"
    }
   ],
   "source": [
    "frame_j"
   ]
  },
  {
   "cell_type": "markdown",
   "metadata": {},
   "source": [
    "<p>Сферические функции Неймана:</p>"
   ]
  },
  {
   "cell_type": "code",
   "execution_count": 763,
   "metadata": {},
   "outputs": [
    {
     "data": {
      "text/html": [
       "<div>\n",
       "<style scoped>\n",
       "    .dataframe tbody tr th:only-of-type {\n",
       "        vertical-align: middle;\n",
       "    }\n",
       "\n",
       "    .dataframe tbody tr th {\n",
       "        vertical-align: top;\n",
       "    }\n",
       "\n",
       "    .dataframe thead th {\n",
       "        text-align: right;\n",
       "    }\n",
       "</style>\n",
       "<table border=\"1\" class=\"dataframe\">\n",
       "  <thead>\n",
       "    <tr style=\"text-align: right;\">\n",
       "      <th></th>\n",
       "      <th>y_n_compute</th>\n",
       "      <th>y_n_known</th>\n",
       "      <th>delta_y</th>\n",
       "    </tr>\n",
       "  </thead>\n",
       "  <tbody>\n",
       "    <tr>\n",
       "      <th>0</th>\n",
       "      <td>-0.056732</td>\n",
       "      <td>-0.191785</td>\n",
       "      <td>0.000000e+00</td>\n",
       "    </tr>\n",
       "    <tr>\n",
       "      <th>1</th>\n",
       "      <td>0.180438</td>\n",
       "      <td>-0.095089</td>\n",
       "      <td>0.000000e+00</td>\n",
       "    </tr>\n",
       "    <tr>\n",
       "      <th>2</th>\n",
       "      <td>0.164995</td>\n",
       "      <td>0.134731</td>\n",
       "      <td>0.000000e+00</td>\n",
       "    </tr>\n",
       "    <tr>\n",
       "      <th>3</th>\n",
       "      <td>-0.015443</td>\n",
       "      <td>0.229821</td>\n",
       "      <td>0.000000e+00</td>\n",
       "    </tr>\n",
       "    <tr>\n",
       "      <th>4</th>\n",
       "      <td>-0.186616</td>\n",
       "      <td>0.187018</td>\n",
       "      <td>0.000000e+00</td>\n",
       "    </tr>\n",
       "    <tr>\n",
       "      <th>5</th>\n",
       "      <td>-0.320465</td>\n",
       "      <td>0.106811</td>\n",
       "      <td>0.000000e+00</td>\n",
       "    </tr>\n",
       "    <tr>\n",
       "      <th>6</th>\n",
       "      <td>-0.518408</td>\n",
       "      <td>0.047967</td>\n",
       "      <td>0.000000e+00</td>\n",
       "    </tr>\n",
       "    <tr>\n",
       "      <th>7</th>\n",
       "      <td>-1.027395</td>\n",
       "      <td>0.017903</td>\n",
       "      <td>-2.220446e-16</td>\n",
       "    </tr>\n",
       "    <tr>\n",
       "      <th>8</th>\n",
       "      <td>-2.563776</td>\n",
       "      <td>0.005741</td>\n",
       "      <td>-8.881784e-16</td>\n",
       "    </tr>\n",
       "    <tr>\n",
       "      <th>9</th>\n",
       "      <td>-7.689445</td>\n",
       "      <td>0.001618</td>\n",
       "      <td>-1.776357e-15</td>\n",
       "    </tr>\n",
       "    <tr>\n",
       "      <th>10</th>\n",
       "      <td>-26.656114</td>\n",
       "      <td>0.000407</td>\n",
       "      <td>-3.552714e-15</td>\n",
       "    </tr>\n",
       "  </tbody>\n",
       "</table>\n",
       "</div>"
      ],
      "text/plain": [
       "    y_n_compute  y_n_known       delta_y\n",
       "0     -0.056732  -0.191785  0.000000e+00\n",
       "1      0.180438  -0.095089  0.000000e+00\n",
       "2      0.164995   0.134731  0.000000e+00\n",
       "3     -0.015443   0.229821  0.000000e+00\n",
       "4     -0.186616   0.187018  0.000000e+00\n",
       "5     -0.320465   0.106811  0.000000e+00\n",
       "6     -0.518408   0.047967  0.000000e+00\n",
       "7     -1.027395   0.017903 -2.220446e-16\n",
       "8     -2.563776   0.005741 -8.881784e-16\n",
       "9     -7.689445   0.001618 -1.776357e-15\n",
       "10   -26.656114   0.000407 -3.552714e-15"
      ]
     },
     "execution_count": 763,
     "metadata": {},
     "output_type": "execute_result"
    }
   ],
   "source": [
    "frame_y"
   ]
  },
  {
   "cell_type": "markdown",
   "metadata": {},
   "source": [
    "<p>Определим теперь функцию $\\textit{derivative}$, которая будет получать на вход набор уже известных нам сферических функций Неймана и Бесселя, и их аргумент. Далее реализуем процедуру $(A2)$, для этого, инициализируем начальные значения, и производим рекуррентный расчет. Результатом функции является кортеж одномерных массивов производных от сферических функций Бесселя и Неймана с аргументом, переданным в эту функцию. </p>"
   ]
  },
  {
   "cell_type": "code",
   "execution_count": 647,
   "metadata": {},
   "outputs": [],
   "source": [
    "def derivative(sphj, sphy, value):\n",
    "    # Initialization the zero-arrays for calculating the derivative functions\n",
    "    sphj_der, sphy_der = np.zeros(len(sphy)), np.zeros(len(sphy))\n",
    "    \n",
    "    # Define ititial derivatives\n",
    "    sphj_der[0] = cos(value) / value - sin(value) / (value ** 2)\n",
    "    sphy_der[0] = sin(value) / value + cos(value) / (value ** 2)\n",
    "    \n",
    "    # Compute another indexes with recurrency relation for derivatives\n",
    "    for ind in range(1, len(sphy)):\n",
    "        sphj_der[ind] = sphj[ind - 1] - (ind + 1) / value * sphj[ind]\n",
    "        sphy_der[ind] = sphy[ind - 1] - (ind + 1) / value * sphy[ind]\n",
    "    return sphj_der, sphy_der"
   ]
  },
  {
   "cell_type": "markdown",
   "metadata": {},
   "source": [
    "Рассмотрим пример расчета функции $derivative$."
   ]
  },
  {
   "cell_type": "code",
   "execution_count": 648,
   "metadata": {},
   "outputs": [],
   "source": [
    "bessels_der, neymans_der = derivative(bessels, neymans, value)"
   ]
  },
  {
   "cell_type": "markdown",
   "metadata": {},
   "source": [
    "<p>Подготовим данные для таблиц.</p>"
   ]
  },
  {
   "cell_type": "code",
   "execution_count": 765,
   "metadata": {},
   "outputs": [],
   "source": [
    "j_der_known = []\n",
    "y_der_known = []\n",
    "delta_j_der = []\n",
    "delta_y_der = []\n",
    "for ind in range(n_max + 1):\n",
    "    j_der_known.append(special.spherical_jn(ind, value, derivative=True))\n",
    "    delta_j_der.append(bessels_der[ind] - special.spherical_jn(ind, value, derivative=True))\n",
    "    y_der_known.append(special.spherical_yn(ind, value, derivative=True))\n",
    "    delta_y_der.append(neymans_der[ind] - special.spherical_yn(ind, value, derivative=True))"
   ]
  },
  {
   "cell_type": "code",
   "execution_count": 766,
   "metadata": {},
   "outputs": [],
   "source": [
    "frame_j_der = pd.DataFrame({'j_der_n_compute':bessels_der, 'j_der_n_known':j_der_known, 'delta_j_der':delta_j_der})\n",
    "frame_y_der = pd.DataFrame({'y_der_n_compute':neymans_der, 'y_der_n_known':y_der_known, 'delta_y_der':delta_y_der})"
   ]
  },
  {
   "cell_type": "markdown",
   "metadata": {},
   "source": [
    "<p>Производные сферических функций Бесселя:</p>"
   ]
  },
  {
   "cell_type": "code",
   "execution_count": 767,
   "metadata": {},
   "outputs": [
    {
     "data": {
      "text/html": [
       "<div>\n",
       "<style scoped>\n",
       "    .dataframe tbody tr th:only-of-type {\n",
       "        vertical-align: middle;\n",
       "    }\n",
       "\n",
       "    .dataframe tbody tr th {\n",
       "        vertical-align: top;\n",
       "    }\n",
       "\n",
       "    .dataframe thead th {\n",
       "        text-align: right;\n",
       "    }\n",
       "</style>\n",
       "<table border=\"1\" class=\"dataframe\">\n",
       "  <thead>\n",
       "    <tr style=\"text-align: right;\">\n",
       "      <th></th>\n",
       "      <th>j_der_n_compute</th>\n",
       "      <th>j_der_n_known</th>\n",
       "      <th>delta_j_der</th>\n",
       "    </tr>\n",
       "  </thead>\n",
       "  <tbody>\n",
       "    <tr>\n",
       "      <th>0</th>\n",
       "      <td>0.095089</td>\n",
       "      <td>0.095089</td>\n",
       "      <td>0.000000e+00</td>\n",
       "    </tr>\n",
       "    <tr>\n",
       "      <th>1</th>\n",
       "      <td>-0.153749</td>\n",
       "      <td>-0.153749</td>\n",
       "      <td>0.000000e+00</td>\n",
       "    </tr>\n",
       "    <tr>\n",
       "      <th>2</th>\n",
       "      <td>-0.175928</td>\n",
       "      <td>-0.175928</td>\n",
       "      <td>0.000000e+00</td>\n",
       "    </tr>\n",
       "    <tr>\n",
       "      <th>3</th>\n",
       "      <td>-0.049125</td>\n",
       "      <td>-0.049125</td>\n",
       "      <td>0.000000e+00</td>\n",
       "    </tr>\n",
       "    <tr>\n",
       "      <th>4</th>\n",
       "      <td>0.042803</td>\n",
       "      <td>0.042803</td>\n",
       "      <td>0.000000e+00</td>\n",
       "    </tr>\n",
       "    <tr>\n",
       "      <th>5</th>\n",
       "      <td>0.058844</td>\n",
       "      <td>0.058844</td>\n",
       "      <td>8.326673e-17</td>\n",
       "    </tr>\n",
       "    <tr>\n",
       "      <th>6</th>\n",
       "      <td>0.039667</td>\n",
       "      <td>0.039658</td>\n",
       "      <td>9.577623e-06</td>\n",
       "    </tr>\n",
       "    <tr>\n",
       "      <th>7</th>\n",
       "      <td>0.019344</td>\n",
       "      <td>0.019322</td>\n",
       "      <td>2.161806e-05</td>\n",
       "    </tr>\n",
       "    <tr>\n",
       "      <th>8</th>\n",
       "      <td>0.007634</td>\n",
       "      <td>0.007568</td>\n",
       "      <td>6.594878e-05</td>\n",
       "    </tr>\n",
       "    <tr>\n",
       "      <th>9</th>\n",
       "      <td>0.002739</td>\n",
       "      <td>0.002505</td>\n",
       "      <td>2.342413e-04</td>\n",
       "    </tr>\n",
       "    <tr>\n",
       "      <th>10</th>\n",
       "      <td>0.001653</td>\n",
       "      <td>0.000722</td>\n",
       "      <td>9.308574e-04</td>\n",
       "    </tr>\n",
       "  </tbody>\n",
       "</table>\n",
       "</div>"
      ],
      "text/plain": [
       "    j_der_n_compute  j_der_n_known   delta_j_der\n",
       "0          0.095089       0.095089  0.000000e+00\n",
       "1         -0.153749      -0.153749  0.000000e+00\n",
       "2         -0.175928      -0.175928  0.000000e+00\n",
       "3         -0.049125      -0.049125  0.000000e+00\n",
       "4          0.042803       0.042803  0.000000e+00\n",
       "5          0.058844       0.058844  8.326673e-17\n",
       "6          0.039667       0.039658  9.577623e-06\n",
       "7          0.019344       0.019322  2.161806e-05\n",
       "8          0.007634       0.007568  6.594878e-05\n",
       "9          0.002739       0.002505  2.342413e-04\n",
       "10         0.001653       0.000722  9.308574e-04"
      ]
     },
     "execution_count": 767,
     "metadata": {},
     "output_type": "execute_result"
    }
   ],
   "source": [
    "frame_j_der"
   ]
  },
  {
   "cell_type": "markdown",
   "metadata": {},
   "source": [
    "Производные сферических функций Неймана:"
   ]
  },
  {
   "cell_type": "code",
   "execution_count": 768,
   "metadata": {},
   "outputs": [
    {
     "data": {
      "text/html": [
       "<div>\n",
       "<style scoped>\n",
       "    .dataframe tbody tr th:only-of-type {\n",
       "        vertical-align: middle;\n",
       "    }\n",
       "\n",
       "    .dataframe tbody tr th {\n",
       "        vertical-align: top;\n",
       "    }\n",
       "\n",
       "    .dataframe thead th {\n",
       "        text-align: right;\n",
       "    }\n",
       "</style>\n",
       "<table border=\"1\" class=\"dataframe\">\n",
       "  <thead>\n",
       "    <tr style=\"text-align: right;\">\n",
       "      <th></th>\n",
       "      <th>y_der_n_compute</th>\n",
       "      <th>y_der_n_known</th>\n",
       "      <th>delta_y_der</th>\n",
       "    </tr>\n",
       "  </thead>\n",
       "  <tbody>\n",
       "    <tr>\n",
       "      <th>0</th>\n",
       "      <td>-0.180438</td>\n",
       "      <td>-0.180438</td>\n",
       "      <td>0.000000e+00</td>\n",
       "    </tr>\n",
       "    <tr>\n",
       "      <th>1</th>\n",
       "      <td>-0.128908</td>\n",
       "      <td>-0.128908</td>\n",
       "      <td>0.000000e+00</td>\n",
       "    </tr>\n",
       "    <tr>\n",
       "      <th>2</th>\n",
       "      <td>0.081441</td>\n",
       "      <td>0.081441</td>\n",
       "      <td>1.387779e-17</td>\n",
       "    </tr>\n",
       "    <tr>\n",
       "      <th>3</th>\n",
       "      <td>0.177350</td>\n",
       "      <td>0.177350</td>\n",
       "      <td>0.000000e+00</td>\n",
       "    </tr>\n",
       "    <tr>\n",
       "      <th>4</th>\n",
       "      <td>0.171173</td>\n",
       "      <td>0.171173</td>\n",
       "      <td>0.000000e+00</td>\n",
       "    </tr>\n",
       "    <tr>\n",
       "      <th>5</th>\n",
       "      <td>0.197943</td>\n",
       "      <td>0.197943</td>\n",
       "      <td>0.000000e+00</td>\n",
       "    </tr>\n",
       "    <tr>\n",
       "      <th>6</th>\n",
       "      <td>0.405306</td>\n",
       "      <td>0.405306</td>\n",
       "      <td>-1.110223e-16</td>\n",
       "    </tr>\n",
       "    <tr>\n",
       "      <th>7</th>\n",
       "      <td>1.125424</td>\n",
       "      <td>1.125424</td>\n",
       "      <td>4.440892e-16</td>\n",
       "    </tr>\n",
       "    <tr>\n",
       "      <th>8</th>\n",
       "      <td>3.587403</td>\n",
       "      <td>3.587403</td>\n",
       "      <td>1.776357e-15</td>\n",
       "    </tr>\n",
       "    <tr>\n",
       "      <th>9</th>\n",
       "      <td>12.815114</td>\n",
       "      <td>12.815114</td>\n",
       "      <td>3.552714e-15</td>\n",
       "    </tr>\n",
       "    <tr>\n",
       "      <th>10</th>\n",
       "      <td>50.954007</td>\n",
       "      <td>50.954007</td>\n",
       "      <td>1.421085e-14</td>\n",
       "    </tr>\n",
       "  </tbody>\n",
       "</table>\n",
       "</div>"
      ],
      "text/plain": [
       "    y_der_n_compute  y_der_n_known   delta_y_der\n",
       "0         -0.180438      -0.180438  0.000000e+00\n",
       "1         -0.128908      -0.128908  0.000000e+00\n",
       "2          0.081441       0.081441  1.387779e-17\n",
       "3          0.177350       0.177350  0.000000e+00\n",
       "4          0.171173       0.171173  0.000000e+00\n",
       "5          0.197943       0.197943  0.000000e+00\n",
       "6          0.405306       0.405306 -1.110223e-16\n",
       "7          1.125424       1.125424  4.440892e-16\n",
       "8          3.587403       3.587403  1.776357e-15\n",
       "9         12.815114      12.815114  3.552714e-15\n",
       "10        50.954007      50.954007  1.421085e-14"
      ]
     },
     "execution_count": 768,
     "metadata": {},
     "output_type": "execute_result"
    }
   ],
   "source": [
    "frame_y_der"
   ]
  },
  {
   "cell_type": "markdown",
   "metadata": {},
   "source": [
    "<p>Теперь вернемся к тому, зачем, собственно, и создавались все выше перечисленные функции. Нам хотелось бы получить численное выражение радиационной силы, действующей на некую упругую сферическую частицу(рассеиватель), размещенную в начале координат. При определении радиационной силы на некоторое препятствие следует учитывать изменение импульса волны из-за рассеяния волны на нем [3 – 5]. В связи с этим алгоритм расчета состоит из двух основных этапов: сначала решается задача о рассеянии звука на сфере, а затем полученные данные для рассеянной волны используются для расчета радиационной силы.</p>\n",
    "<p>Первым этапом расчетов является решение задачи рассеяния. В качестве рассеивателя для начала будем рассматривать абсолютно жесткую сферу.</p>\n",
    "<p>Будем полагать, что окружающая рассеиватель среда является идеальной жидкостью\n",
    "с плотностью $\\rho$ и скоростью распространения звука в ней $с$. Поместим в жидкость\n",
    "абсолютно жесткую сферу радиуса а и введем сферическую систему координат с началом в центре сферы (рис. 1.1).</p>"
   ]
  },
  {
   "cell_type": "markdown",
   "metadata": {},
   "source": [
    "<img src=https://bit.ly/2zRSPp8 width=\"500\">"
   ]
  },
  {
   "cell_type": "markdown",
   "metadata": {},
   "source": [
    "$$\\textbf{Рис. 1.1.} \\text{Геометрия задачи рассеяния плоской волны на сфере}$$"
   ]
  },
  {
   "cell_type": "markdown",
   "metadata": {},
   "source": [
    "<p>Пусть на сферу (рис. 1.1.) падает плоская гармоническая волна. В этом случае акустическое давление $p'(\\vec{r},t)$ и колебательная скорость частиц $\\vec{v'}(\\vec{r},t)$ запишутся:\n",
    "    \n",
    "$$p' = \\frac{P}{2} e^{-i\\omega t} + \\frac{P^*}{2}e^{i\\omega t}, \\;\\; \\vec{v'} = \\frac{\\vec{V}}{2}e^{-i\\omega t} + \\frac{\\vec{V^*}}{2}e^{i\\omega t} , \\tag{1.1}$$</p>\n",
    " \n",
    "<p>где $P$, $\\vec{V}$ - комплексные амплитуды волны, $f = \\omega / (2\\pi)$ - ее частота.</p>\n",
    " \n",
    "<p>Комплексная амплитуда $P$ является решением уравнения Гельмгольца $\\Delta P +k^2P = 0$, где $k = \\omega / c$ - волновое число. Ее можно представить в виде суммы комплексных амплитуд падающей и рассеянной волн: $P = P_\\text{пад} + P_\\text{расс}$</p>\n",
    "\n",
    "<p>В случае плоской падающей волны величина $P_\\text{пад}$ представима в виде следующего разложения [1]:</p>\n",
    "\n",
    "$$P_\\text{пад} = p_0e^{ikrcos\\theta} = p_0\\sum\\limits_{n=0}^{\\infty} i^n(2n+1)j_n(kr)P_n(cos\\theta), \\tag{1.2}$$\n",
    "\n",
    "<p>где $r$ и $\\theta$ - сферические координаты (рис. 1.1), $j_n(\\zeta) = \\sqrt{\\pi/(2\\zeta)}J_{n+1/2}(\\zeta)$ - сферическая функция Бесселя, $P_n(cos\\theta)$ - полином Лежандра. Рассеянное поле представимо в виде похожего разложения [2]:</p>\n",
    "\n",
    "$$P_\\text{расс}=p_0\\sum\\limits_{n=0}^{\\infty}c_nh_n^{(1)}(kr)P_n(cos\\theta), \\tag{1.3}$$\n",
    "\n",
    "<p>где $h_n^{(1)}(kr) =j_n(kr) +iy_n(kr)$ - функция Ханкеля 1-го рода, $y_n(\\zeta) = \\sqrt{\\pi/(2\\zeta)}Y_{n+1/2}(\\zeta)$, $Y_n(\\zeta)$ - функция Неймана. Коэффициенты $c_n$ находятся из граничных условий на поверхности рассеивателя. Поскольку жидкость считается невязкой, указанные условия заключаются в непрерывности нормальных компонент скорости и напряжений, а также отсутствии касательного напряжения на поверхности рассеивателя. В частном случае абсолютно жесткого рассеивателя граничыне условия упрощаются и сводятся к одному условию равенства нулю нормальной компоненты скорости $V_n = 0$. В случае сферы нормальной компонентой скорости является ее радиальная компонента $V_r=0$.</p>\n",
    "\n",
    "<p>Граничное условие при $r = a$ запишется так:</p>\n",
    "\n",
    "$$V_r = \\frac{1}{i\\omega \\rho}\\frac{\\partial{P}}{\\partial{r}}\\Bigl|_{r=a} \\tag{1.4}$$\n",
    "\n",
    "<p>Используя соотношения (1.2), (1.3), (1.4) получим:</p>\n",
    "\n",
    "$$c_n = -i^n(2n+1)\\frac{j_n^{'}(ka)}{h_n^{'(1)}(ka)}. \\tag{1.5} $$\n",
    "\n",
    "<p>Здесь штрих означает производную по аргументу соотвествтующей фукнкции. Из (1.1) - (1.5) получим, что амплитуда полного поля равна:</p>\n",
    "\n",
    "$$P = p_0\\sum\\limits_{n=0}^{\\infty}i^n(2n+1)\\Bigl[j_n(kr) -\\frac{j_n^{'}(ka)}{h_n^{'(1)}(ka)} h_n^{(1)}(kr)\\Bigr]P_n(cos\\theta). \\tag{1.6}$$\n",
    "\n",
    "<p>Аналогично найдем выражения для комплексных амплитуд радиальной $V_r$ и угловой $V_\\theta$ компонент:</p>\n",
    "\n",
    "$$V_r =\\frac{1}{i\\rho c}p_0\\sum\\limits_{n=0}^{\\infty}P_n(cos\\theta)(2n+1)i^n\\Bigl[j_n(kr) -\\frac{j_n^{'}(ka)}{h_n^{'(1)}(ka)} h_n^{(1)}(kr)\\Bigr] \\tag{1.7}$$\n",
    "\n",
    "$$V_\\theta = \\frac{1}{i\\rho \\omega}\\frac{1}{r}p_0\\sum\\limits_{n=0}^{\\infty} \\frac{\\partial{}}{\\partial\\theta} (P_n(cos\\theta))(2n+1)i^n\\Bigl[j_n(kr) -\\frac{j_n^{'}(ka)}{h_n^{'(1)}(ka)} h_n^{(1)}(kr)\\Bigr] \\tag{1.8}$$\n",
    "\n",
    "<p>Выражения (1.6), (1.7), (1.8) полностью описывают поле звуковой волны, рассеиваемой на абсолютно жесткой сфере радиуса $a$.</p>"
   ]
  },
  {
   "cell_type": "markdown",
   "metadata": {},
   "source": [
    "<p>На основе описанной теории, приходим к выводу о том, что мы не можем реализовать бесконечное суммирование ряда (см. формулу $(1.2)$), поэтому нам нужно определить верхний предел суммирования, который бы смог гарантировать корректность всех рассчитываемых сумм. Таким образом, сначала решался вопрос поиска таких значений верхней границы суммирования $N_{max}$ данного ряда, для которых отбрасываемая часть суммы вносит незначительный вклад.</p>"
   ]
  },
  {
   "cell_type": "markdown",
   "metadata": {},
   "source": [
    "<p>На помощь приходит представление или графическая интерпретация сферических функций Бесселя (рис. 1.2.), которые согласно формуле $(1.2)$ входят в искомый ряд.</p>"
   ]
  },
  {
   "cell_type": "markdown",
   "metadata": {},
   "source": [
    "<img src=https://bit.ly/3b3lHYs width=\"500\">"
   ]
  },
  {
   "cell_type": "markdown",
   "metadata": {},
   "source": [
    "$$\\textbf{Рис. 1.2.}~\\text{Сферические функции Бесселя}$$"
   ]
  },
  {
   "cell_type": "markdown",
   "metadata": {},
   "source": [
    "<p>Нетрудно заметить, что по мере увеличения порядка сферической функции, ее первый экстремум сдвигается вправо вдоль оси аргумента, а все, что находится левее первого экстремума, характеризуется малыми значениями. Соответственно, если зафиксировать произвольное значение аргумента, то наибольший вклад в искомый ряд будет вносить сферическая функция Бесселя наименьшего порядка, а каждая последующая функция  -- все меньше и меньше, и, начиная с какого-то номера $N_{max}$, вклад функций с порядком большим, чем $N_{max}$, будет уже пренебрежимо мал для построения нашей модели.</p>\n",
    "\t\n",
    "<p>Согласно условиям данной задачи нам требуется исследовать влияние падающего поля давления на рассеиватель, поэтому необходимо реализовать точный расчет лишь вблизи локализации рассеивателя.</p>\n",
    "\t\n",
    "<p>Учитывая вышеизложенные факты, получаем, что при аргументе функции, которым является величина $kr$ согласно $(1.2)$, равном $N_{max}$, последующие сферические функции Бесселя порядков выше, чем $N_{max}$, не вносят существенный вклад в рассчитываемый ряд, а сам радиус области оказывается равным радиусу рассеивателя (назовем его $a$), умноженному на число из промежутка от трех до пяти.</p>\n",
    "\t\n",
    "<p>Таким образом, мы получили выражение для предельных значений верхней границы суммирования, при которых расчитанное поле давлений сходится достаточно точно с теорией вблизи области $r = a$.</p>\n",
    "\n",
    "$$N_{max} = (3\\div5)ka. \\tag{1.12}$$\n",
    "\n",
    "<p>Получается, выбирая значение $N_{max}$, мы фактически задаем максимально возможные значения радиуса нашего рассеивателя. Если же радиус рассеивателя положить фиксированным, а значение верхней границы суммирования взять меньшим, чем значение, полученное в результате подстановки соответсвующего радиуса в уравнение $(1.12)$, мы можем столкнуться с неправильным подсчетом сферических функций в этой области.</p>"
   ]
  },
  {
   "cell_type": "markdown",
   "metadata": {},
   "source": [
    "<p>В случае сферической падающей волны, согласно [6] существует похожее относительно $(1.2)$ разложение:</p>\n",
    "\n",
    "$$P_s = \\sum \\limits_{n=0}^{\\infty} A_{sp} ik(-1)^n(2n+1)h_n^{(1)}(kz_0)c_nh_n^{(1)}(kr)P_n(cos\\theta), \\tag{1.13}$$\n",
    "\n",
    "<p>где $c_n$ определяется согласно формуле (1.3), а $h_n^{(1)}(kr) =j_n(kr) +iy_n(kr)$ - сферическая функция Ханкеля 1-го рода, $y_n(\\zeta) = \\sqrt{\\pi/(2\\zeta)}Y_{n+1/2}(\\zeta)$, $Y_n(\\zeta)$ - сферическая функция Неймана. Источник сферической волны находится в точке $z = z_0$.</p>\n",
    "\n",
    "<p>В случае сферической падающей волны величина $P_{\\text{пад}}$ представима в виде:</p>\n",
    "\n",
    "$$P_{\\text{пад}} = p_0e^{ikR}/R, \\tag{1.14}$$\n",
    "\n",
    "<p>где $R = \\sqrt{r^2 + z_0^2+2rz_0cos\\theta}~~$(рис. 1.5).</p>"
   ]
  },
  {
   "cell_type": "markdown",
   "metadata": {},
   "source": [
    "<img src=https://bit.ly/2WpuPS5 width=\"500\">"
   ]
  },
  {
   "cell_type": "markdown",
   "metadata": {},
   "source": [
    "$$\\textbf{Рис. 1.3.}~ \\text{Геометрия задачи в случае сферической волны}$$"
   ]
  },
  {
   "cell_type": "markdown",
   "metadata": {},
   "source": [
    "<h2>Рассмотрим теперь основную программу</h2>\n",
    "\n",
    "<p>Для лучшей читаемости заменим $R$ из рис. 1.2 на функцию $\\textit{sqrthcos}$, название ее связано с теоремой косинусов, применяемой для вычисления самой величины. На вход этой функции передаем радиус-вектор рассматриваемой точки, координату источника сферической волны, и косинус угла до радиус-вектора этой точки, для однозначности. На выходе получаем значение $R$.</p>\n",
    "\n",
    "<p>Инициализация начальных параметров, констант, ничего особенного, вызов функции $\\textit{upperRecurency}$ для расчета функций Бесселя и Неймана в точке с координатой источника волн, которые потом используются в формуле $(1.13)$</p>"
   ]
  },
  {
   "cell_type": "code",
   "execution_count": 709,
   "metadata": {},
   "outputs": [],
   "source": [
    "# Square root + theorem of cos\n",
    "def sqrthcos(r, z0, costheta):\n",
    "    return (r ** 2 + z0 ** 2 + 2 * r * z0 * costheta) ** .5\n",
    "\n",
    "# Initialize the parameters of required functions\n",
    "# Nmax -> quantity of required functionsp\n",
    "# z0 -> initial coordinate of the spherical-wave sourse\n",
    "# step -> cells-step\n",
    "Nmax = 10\n",
    "z0 = 50\n",
    "step = 1\n",
    "a = 5 * (10 ** (-3))  # 5mm radius of sperical object\n",
    "f = 10 ** 6  # 1 MHz\n",
    "# k = 2 * pi * f / 1500  # k = w / c, w = 2piv\n",
    "k = 1\n",
    "p_0 = 1\n",
    "A_sp = 1\n",
    "rho = 1\n",
    "c_sound = 1 #1500\n",
    "\n",
    "\n",
    "# Initialize the matrix 401 x 401 ([-200, 200] x [-200, 200]) with complex data type for theoretical functions\n",
    "p_ith = np.zeros((401, 401), dtype=complex)\n",
    "p_spth = np.zeros((401, 401), dtype=complex)\n",
    "p_sc = np.zeros((401, 401), dtype=complex)\n",
    "p_sc_sp = np.zeros((401, 401), dtype=complex)\n",
    "\n",
    "\n",
    "# Initialize the matrix 1 x Nmax for Legendre Polynomials\n",
    "P = np.zeros(Nmax + 1)\n",
    "\n",
    "# Initialize the matrix 401 x 401 ([-200, 200] x [-200, 200]) with complex data type for calculating functions\n",
    "p_i = np.zeros((401, 401), dtype=complex)\n",
    "p_sp = np.zeros((401, 401), dtype=complex)\n",
    "\n",
    "# Calculating the Bessels functions with the help of our function called as 'upperRecurency' in the value z0\n",
    "sphjz0, sphyz0 = upperRecurency(k * z0, Nmax)\n",
    "\n",
    "t = time.time()\n",
    "e = np.zeros((401, 401), dtype=float)\n",
    "e_sp = np.zeros((401, 401), dtype=float)"
   ]
  },
  {
   "cell_type": "markdown",
   "metadata": {},
   "source": [
    "<p>Для лучшего восприятия введем вспомогательные функции для сферического коэффициента $Q_n^{(spherical~wave)}$ и коэффициента плоской волны $Q_n^{(plane~wave)}$ согласно [6].</p>\n",
    "\n",
    "<p>Формульно они записываются так:</p>\n",
    "\n",
    "$$Q_n^{(spherical~wave)} = A_{sp} ik(-1)^n(2n+1)h_n^{(1)}(kz_0) \\tag{1.15}$$\n",
    "\n",
    "$$Q_n^{(plane~wave)} = p_0i^n(2n+1)\\tag{1.16}$$"
   ]
  },
  {
   "cell_type": "code",
   "execution_count": 652,
   "metadata": {},
   "outputs": [],
   "source": [
    "def Q_sp(n, sphjz0, sphyz0):\n",
    "    return A_sp * 1j * k * ((-1) ** n) * (2 * n + 1) * (sphjz0[n] + 1j * sphyz0[n])"
   ]
  },
  {
   "cell_type": "code",
   "execution_count": 653,
   "metadata": {},
   "outputs": [],
   "source": [
    "def Q_pl(n):\n",
    "    return p_0 * (1j ** n) * (2 * n + 1)"
   ]
  },
  {
   "cell_type": "markdown",
   "metadata": {},
   "source": [
    "<p>Вычислим коэффициенты $c_n$ в разложении $(1.13)$ используя $(1.5)$.</p>\n",
    "\n",
    "<p>Радиационная сила, точнее ее проекция на ось $z$, может быть представлена как:</p>\n",
    "\n",
    "$$F_z = \\frac{2\\pi}{\\rho c^2 k^2}\\sum_{n=0}^{\\infty}\\frac{(n+1)}{(2n+1)(2n+3)}Im[Q_nQ_{n+1}^*(c_n+c_{n+1}^*+2c_nc_{n+1}^*)]\\tag{1.17}$$\n",
    "\n",
    "<p>Таким образом, правильно вычислив сферические функции Бесселя и Неймана и их производные, мы можем вычислить коэффициенты $c_n$, с помощью которых получаем искомое выражения для проекции радиационной силы</p>"
   ]
  },
  {
   "cell_type": "code",
   "execution_count": 654,
   "metadata": {},
   "outputs": [],
   "source": [
    "# calculate the coefficients in the sum for spherical wave\n",
    "c = np.zeros(Nmax + 1, dtype=complex)\n",
    "F_z_plane, F_z_spherical = 0, 0\n",
    "sphja, sphya = upperRecurency(k * a, Nmax)\n",
    "sphja_der, sphya_der = derivative(sphja, sphya, k * a)\n",
    "# print(sphja_der,sphya_der)\n",
    "for n in range(len(sphya)):\n",
    "    c[n] = -(1j) ** n * (2 * n + 1) * sphja_der[n] / (sphja_der[n] + 1j * sphya_der[n]) \n",
    "\n",
    "\n",
    "for n in range(Nmax):\n",
    "    F_z_spherical += 2 * pi / (rho * (c_sound ** 2) * (k ** 2)) *(n + 1) / ((2 * n + 1) * (2 * n + 3)) * np.imag(Q_sp(n, sphjz0, sphyz0) * np.conj(Q_sp(n + 1, sphjz0, sphyz0)) * (c[n] + np.conj(c[n + 1]) + 2 * c[n] * np.conj(c[n + 1])))\n",
    "    F_z_plane += -2 * pi * (p_0 ** 2) / (rho * (c_sound ** 2) * (k ** 2)) * (n + 1) * np.real(c[n] + np.conj(c[n + 1]) + 2 * c[n] * np.conj(c[n + 1]))"
   ]
  },
  {
   "cell_type": "markdown",
   "metadata": {},
   "source": [
    "<p>Посмотрим, чему равны значения рассчитанных радиационных сил, в ознакомительных целях</p>"
   ]
  },
  {
   "cell_type": "code",
   "execution_count": 655,
   "metadata": {},
   "outputs": [
    {
     "name": "stdout",
     "output_type": "stream",
     "text": [
      "F_z_spherical_wave = 4.733297900229261e-10\n"
     ]
    }
   ],
   "source": [
    "print(f'F_z_spherical_wave = {F_z_spherical}')"
   ]
  },
  {
   "cell_type": "code",
   "execution_count": 656,
   "metadata": {},
   "outputs": [
    {
     "name": "stdout",
     "output_type": "stream",
     "text": [
      "F_z_plane_wave = 1.1780884202099375e-06\n"
     ]
    }
   ],
   "source": [
    "print(f'F_z_plane_wave = {F_z_plane}')"
   ]
  },
  {
   "cell_type": "markdown",
   "metadata": {},
   "source": [
    "<p>Следующий блок кода был положен в основу проверки корректности расчета сферических функций. С помощью формул $(1.2)$ и $(1.14)$ мы знаем математическое описание поля давлений в заданной области, поэтому, рассчитав частичные суммы рядов $(1.2)$ и $(1.13)$, мы можем изобразить модуль разности теоретических значений и рассчитанных, оценив, при этом, область сходимости, то есть ту область, в которой наши функции посчитаны верно.</p>\n",
    "<p>Обратим внимание на полиномы Лежандра, которые встречаются в любой сумме, представленной выше (напр. $(1.2)$). Характерные графики полиномов Лежандра $P_n(cos\\theta)$ в зависимости от угла $\\theta$, изменяющегося от $0$ до $\\pi$ представлены ниже:</p>"
   ]
  },
  {
   "cell_type": "markdown",
   "metadata": {},
   "source": [
    "<img src='https://bit.ly/2SPCacE' width=500>"
   ]
  },
  {
   "cell_type": "markdown",
   "metadata": {},
   "source": [
    "$$\\textbf{рис. 1.4}~\\text{Зависимость полиномов Лежандра}~P_n(cos\\theta)~от~\\theta$$"
   ]
  },
  {
   "cell_type": "markdown",
   "metadata": {},
   "source": [
    "<p>При численном моделировании используем рекуррентное соотношение, позволяющее рассчитать любой заданный наперед порядок:</p>\n",
    "$$P_{n+1}(cos\\theta)=\\frac{2n+1}{n+1}cos\\theta \\cdot P_n(cos\\theta) - \\frac{n}{n+1}P_{n-1}(cos\\theta) \\tag{1.18}$$"
   ]
  },
  {
   "cell_type": "code",
   "execution_count": 711,
   "metadata": {},
   "outputs": [
    {
     "name": "stdout",
     "output_type": "stream",
     "text": [
      "82.99256610870361\n"
     ]
    }
   ],
   "source": [
    "# Going through the cells\n",
    "for x in range(-200, 201):\n",
    "    print(x / 4 + 50, '%', '\\r', end='')\n",
    "    for z in range(-200, 201):\n",
    "        \n",
    "        # Calculating the radius-vector in the current point\n",
    "        r = step * (x ** 2 + z ** 2) ** .5\n",
    "        \n",
    "        # Check for non-zero value for r\n",
    "        if r:\n",
    "            \n",
    "            # Calculating cos(theta) in the current point\n",
    "            costheta = step * z / r\n",
    "            \n",
    "            R = sqrthcos(r, z0, costheta)\n",
    "                \n",
    "            # Calculating the Bessels functions with the help of our function called as 'upperRecurency' in the value r\n",
    "            sphj, sphy = upperRecurency(k * r, Nmax)\n",
    "                \n",
    "            # Calculating the theoretical pressure functions\n",
    "            p_ith[x + 200][z + 200] = p_0 * cmath.exp(1j * k * r * costheta)\n",
    "                \n",
    "            # Check for non-zero value for theorem of cos in the current point\n",
    "            if sqrthcos(r, z0, costheta):\n",
    "                p_spth[x + 200][z + 200] = p_0 * cmath.exp(1j * k * R) / R\n",
    "                \n",
    "            # Use bottom-to-top recurrency relation to calculate Legendre's polynomials\n",
    "            P[0] = 1\n",
    "            P[1] = costheta\n",
    "            for n in range(1, Nmax):\n",
    "                P[n + 1] = (2 * n + 1) / (n + 1) * costheta * P[n] - n / (n + 1) * P[n - 1];\n",
    "                    \n",
    "            # Calculating the required pressure functions (incident)\n",
    "            for n in range(0, Nmax):\n",
    "                p_i[x + 200, z + 200] += Q_pl(n) * P[n] * sphj[n]\n",
    "                p_sp[x + 200, z + 200] += Q_sp(n, sphjz0, sphyz0) * P[n] * sphj[n] \n",
    "                \n",
    "                # (scattered)\n",
    "                p_sc [x + 200, z + 200] += Q_pl(n) * c[n] * (sphj[n] + 1j * sphy[n]) * P[n]\n",
    "                p_sc_sp [x + 200, z + 200] += Q_sp(n, sphjz0, sphyz0) * c[n] * (sphj[n] + 1j * sphy[n]) * P[n]\n",
    "                \n",
    "            e[x + 200, z + 200] = abs(p_i[x + 200, z + 200] - p_ith[x + 200, z + 200])\n",
    "            e_sp[x + 200, z + 200] = abs(p_sp[x + 200, z + 200] - p_spth[x + 200, z + 200])\n",
    "                \n",
    "print(time.time() - t)"
   ]
  },
  {
   "cell_type": "markdown",
   "metadata": {},
   "source": [
    "<p>Картинки, на которых можно оценить, как влияет $N_{max}$ на размеры области сходимости</p>"
   ]
  },
  {
   "cell_type": "markdown",
   "metadata": {},
   "source": [
    "<img src='https://bit.ly/2WiSeWl' width=700>"
   ]
  },
  {
   "cell_type": "markdown",
   "metadata": {},
   "source": [
    "$$\\textbf{рис. 1.5.} ~~\\text{$N_{max} = 10~$Плоская волна}$$"
   ]
  },
  {
   "cell_type": "markdown",
   "metadata": {},
   "source": [
    "<p>На $\\textbf{рис. 1.5}$ изображено распределение функции ошибки в случае падения на рассеиватель плоской волны при $N_{max} = 10$, то есть распределение модуля разности теоретического значения акустического давления в данной точке и посчитанного программой, см. $(1.2)$. Примечательным на этом графике является область нулевого значения функции ошибки, так называемая область сходимости, то есть та область (отмечена синим цветом, согласно цветовой палитре), в которой рассчитываемые функции полностью совпадают с теоретическими. Радиус области сходимости будет возрастать с увеличением верхнего индекса суммирования подобно тому, как учет последующего элемента в разложении ряда Тейлора все более точно описывает раскладываемую функцию.</p>"
   ]
  },
  {
   "cell_type": "markdown",
   "metadata": {},
   "source": [
    "<img src='https://bit.ly/35SuPOD' width=700>"
   ]
  },
  {
   "cell_type": "markdown",
   "metadata": {},
   "source": [
    "$$\\textbf{рис. 1.6.} ~~\\text{$N_{max} = 10~$Сферическая волна}$$"
   ]
  },
  {
   "cell_type": "markdown",
   "metadata": {},
   "source": [
    "<p>В случае же сферической волны, падающей на рассеиватель, мы получаем такую картину распределения функции ошибки. Примечательным здесь является то, что в месте, где находится источник сферической волны, наблюдается максимум ошибки, что оказывается следствием формулы $(1.14)$, в данной точке $R$ обращается в ноль, формируя деление на ноль в этой формуле. Следует отметить также малый радиус сходимости.</p>"
   ]
  },
  {
   "cell_type": "markdown",
   "metadata": {},
   "source": [
    "<p>На последующих рисунках мы можем пронаблюдать явное изменение радиуса сходимости в зависимости от $N_{max}$</p>"
   ]
  },
  {
   "cell_type": "markdown",
   "metadata": {},
   "source": [
    "<img src='https://bit.ly/3bfrSZG' width=700>"
   ]
  },
  {
   "cell_type": "markdown",
   "metadata": {},
   "source": [
    "$$\\textbf{рис. 1.7.} ~~\\text{$N_{max} = 30~$Плоская волна}$$"
   ]
  },
  {
   "cell_type": "markdown",
   "metadata": {},
   "source": [
    "<img src='https://bit.ly/35MKO0G' width=700>"
   ]
  },
  {
   "cell_type": "markdown",
   "metadata": {},
   "source": [
    "$$\\textbf{рис. 1.8.} ~~\\text{$N_{max} = 30~$Сферическая волна}$$"
   ]
  },
  {
   "cell_type": "code",
   "execution_count": 712,
   "metadata": {},
   "outputs": [],
   "source": [
    "x = np.arange(-200, 201, 1)\n",
    "y = np.arange(-200, 201, 1)\n",
    "\n",
    "z = np.zeros((401, 401), dtype=float)\n",
    "for ind in range(len(e)):\n",
    "    for sec_ind in range(len(e[ind])):\n",
    "        z[ind][sec_ind] = e[ind][sec_ind]\n",
    "        \n",
    "z2 = np.zeros((401, 401), dtype=float)\n",
    "for ind in range(len(e_sp)):\n",
    "    for sec_ind in range(len(e_sp[ind])):\n",
    "        z2[ind][sec_ind] = e_sp[ind][sec_ind]\n",
    "\n",
    "\n",
    "for ind in range(len(z)):\n",
    "    for sec_ind in range(len(z[ind])):\n",
    "#         print(z[ind][sec_ind] - e[ind][sec_ind])\n",
    "        if z[ind][sec_ind] > 2:\n",
    "#             print(p_i[ind][sec_ind], p_ith[ind][sec_ind])\n",
    "            z[ind][sec_ind] = 2\n",
    "    \n",
    "for ind in range(len(z2)):\n",
    "    for sec_ind in range(len(z2[ind])):\n",
    "#         print(z[ind][sec_ind] - e[ind][sec_ind])\n",
    "        if z2[ind][sec_ind] > .1:\n",
    "#             print(p_i[ind][sec_ind], p_ith[ind][sec_ind])\n",
    "            z2[ind][sec_ind] = .1"
   ]
  },
  {
   "cell_type": "code",
   "execution_count": 716,
   "metadata": {},
   "outputs": [],
   "source": [
    "# fig = go.Figure(data=[go.Surface(z=z, x=x, y=y)])\n",
    "# fig.update_layout(title='Error Function Plane Wave', autosize=False,\n",
    "#                   width=700, height=700,\n",
    "#                   margin=dict(l=65, r=50, b=65, t=90))\n",
    "# fig.show()"
   ]
  },
  {
   "cell_type": "code",
   "execution_count": 717,
   "metadata": {},
   "outputs": [],
   "source": [
    "# fig = go.Figure(data=[go.Surface(z=z2, x=x, y=y)])\n",
    "# fig.update_layout(title='Error Function Spherical Wave', autosize=False,\n",
    "#                   width=700, height=700,\n",
    "#                   margin=dict(l=65, r=50, b=65, t=90))\n",
    "# fig.show()"
   ]
  },
  {
   "cell_type": "markdown",
   "metadata": {},
   "source": [
    "<ul>Список Литературы:</ul>\n",
    "<p>1) $\\textit{Hasegawa T., Yosioka K.}$ Acoustic-radiation force on a solid elastic sphere // J. Acoust. Soc. Amer. 1969. \\\\ V. 46. №. 5B. P. 1139 - 1143.</p>\n",
    "<p>2) $\\textit{Морс Ф. М., Фешбах Г.}$ Методы теоретической физики. М.: ИЛ, 1960. Т. 2.</p>\n",
    "<p>3) $\\textit{Lee C. P., Wang T. G.}$ Acoustic radiation pressure // J. Acoust. Soc. Amer. 1993. V. 94. No.\n",
    " 2. P. 1099 – 1109.</p>\n",
    "<p>4) $\\textit{Hasegawa T. Kido T., Iizuka T., Matsuoka C.}$ A general theory of Rayleigh and Langevin radiation pressures // Acoust. Science Techn. 2001. V. 21. No. 3. P. 145 – 152.</p>\n",
    "<p>5) $\\textit{Ландау Л.Д., Лифшиц Е.М.}$ Гидродинамика, Ч. 1. M.: Наука, 1987, Глава 1. Идеальные среды. С. 1 – 43.</p>\n",
    "<p>6) $\\textit{Sapozhnikov O. A., Bailey M. R.}$ Radiation force on an elastic sphere //J. Acoust. Soc. Am. 2013  Vol. 133. №. 2. P. 661 - 676.</p>\n",
    "<p>7)$~$<a>https://en.wikipedia.org/wiki/Bessel_function#Spherical_Bessel_functions</a></p>\n",
    "<p>8)$~$<a>https://docs.scipy.org/doc/scipy/reference/special.html</a></p>\n",
    "<p>9)$~$<a>https://plotly.com/python/</a></p>"
   ]
  }
 ],
 "metadata": {
  "kernelspec": {
   "display_name": "Python 3",
   "language": "python",
   "name": "python3"
  },
  "language_info": {
   "codemirror_mode": {
    "name": "ipython",
    "version": 3
   },
   "file_extension": ".py",
   "mimetype": "text/x-python",
   "name": "python",
   "nbconvert_exporter": "python",
   "pygments_lexer": "ipython3",
   "version": "3.8.0"
  }
 },
 "nbformat": 4,
 "nbformat_minor": 2
}
